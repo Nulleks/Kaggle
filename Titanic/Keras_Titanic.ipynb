{
 "cells": [
  {
   "cell_type": "markdown",
   "metadata": {},
   "source": [
    "# Titanic Kaggle Competition"
   ]
  },
  {
   "cell_type": "markdown",
   "metadata": {},
   "source": [
    "# Competition Description\n",
    "\n",
    "The sinking of the RMS Titanic is one of the most infamous shipwrecks in history.  On April 15, 1912, during her maiden voyage, the Titanic sank after colliding with an iceberg, killing 1502 out of 2224 passengers and crew. This sensational tragedy shocked the international community and led to better safety regulations for ships.\n",
    "\n",
    "One of the reasons that the shipwreck led to such loss of life was that there were not enough lifeboats for the passengers and crew. Although there was some element of luck involved in surviving the sinking, some groups of people were more likely to survive than others, such as women, children, and the upper-class.\n",
    "\n",
    "In this challenge, we ask you to complete the analysis of what sorts of people were likely to survive. In particular, we ask you to apply the tools of machine learning to predict which passengers survived the tragedy."
   ]
  },
  {
   "cell_type": "markdown",
   "metadata": {},
   "source": [
    "### Goal\n",
    "It is your job to predict if a passenger survived the sinking of the Titanic or not. \n",
    "For each PassengerId in the test set, you must predict a 0 or 1 value for the Survived variable."
   ]
  },
  {
   "cell_type": "markdown",
   "metadata": {},
   "source": [
    "### Variables\n",
    "\n",
    "| Variable | Definition                                 | Key                                            |\n",
    "|----------|--------------------------------------------|------------------------------------------------|\n",
    "| Survival | Survival                                   | 0 = No, 1 = Yes                                |\n",
    "| pcclass  | Ticket Class                               | 1 = 1st, 2 = 2nd, 3 = 3rd                      |\n",
    "| sex      | Sex                                        |                                                |\n",
    "| Age      | Age in years                               |                                                |\n",
    "| sibsp    | # of siblings / spouses aboard the Titanic |                                                |\n",
    "| parch    | # of parents / children aboard the Titanic |                                                |\n",
    "| ticket   | Ticket number                              |                                                |\n",
    "| fare     | Passenger fare                             |                                                |\n",
    "| cabin    | Cabin number                               |                                                |\n",
    "| embarked | Port of Embarkation                        | C = Cherbourg, Q = Queenstown, S = Southampton |"
   ]
  },
  {
   "cell_type": "markdown",
   "metadata": {},
   "source": [
    "## Lets start coding\n",
    "\n",
    "#### Libararies and load"
   ]
  },
  {
   "cell_type": "code",
   "execution_count": 1,
   "metadata": {
    "collapsed": true
   },
   "outputs": [],
   "source": [
    "import numpy as np # linear algebra\n",
    "import pandas as pd # data processing, CSV file I/O (e.g. pd.read_csv)\n",
    "import matplotlib.pyplot as plt\n",
    "import seaborn as sns\n",
    "%matplotlib inline\n",
    "sns.set_style('whitegrid')"
   ]
  },
  {
   "cell_type": "markdown",
   "metadata": {},
   "source": [
    "TODO --> We should merge the dataset and process both together"
   ]
  },
  {
   "cell_type": "code",
   "execution_count": 2,
   "metadata": {},
   "outputs": [
    {
     "name": "stdout",
     "output_type": "stream",
     "text": [
      "(891, 12)\n",
      "(418, 11)\n"
     ]
    }
   ],
   "source": [
    "training_data = pd.read_csv('data/train.csv')\n",
    "testing_data = pd.read_csv('data/test.csv')\n",
    "\n",
    "print(training_data.shape)\n",
    "print(testing_data.shape)"
   ]
  },
  {
   "cell_type": "code",
   "execution_count": 3,
   "metadata": {},
   "outputs": [
    {
     "name": "stdout",
     "output_type": "stream",
     "text": [
      "     PassengerId  Pclass                          Name     Sex   Age  SibSp  \\\n",
      "87           979       3    Badman, Miss. Emily Louisa  female  18.0      0   \n",
      "233         1125       3          Linehan, Mr. Michael    male   NaN      0   \n",
      "207         1099       2  Collett, Mr. Sidney C Stuart    male  24.0      0   \n",
      "9            901       3       Davies, Mr. John Samuel    male  21.0      2   \n",
      "71           963       3            Minkoff, Mr. Lazar    male  21.0      0   \n",
      "\n",
      "     Parch     Ticket     Fare Cabin Embarked  \n",
      "87       0  A/4 31416   8.0500   NaN        S  \n",
      "233      0     330971   7.8792   NaN        Q  \n",
      "207      0      28034  10.5000   NaN        S  \n",
      "9        0  A/4 48871  24.1500   NaN        S  \n",
      "71       0     349211   7.8958   NaN        S  \n"
     ]
    }
   ],
   "source": [
    "print(testing_data.sample(5))"
   ]
  },
  {
   "cell_type": "code",
   "execution_count": 4,
   "metadata": {},
   "outputs": [
    {
     "name": "stdout",
     "output_type": "stream",
     "text": [
      "<class 'pandas.core.frame.DataFrame'>\n",
      "RangeIndex: 891 entries, 0 to 890\n",
      "Data columns (total 12 columns):\n",
      "PassengerId    891 non-null int64\n",
      "Survived       891 non-null int64\n",
      "Pclass         891 non-null int64\n",
      "Name           891 non-null object\n",
      "Sex            891 non-null object\n",
      "Age            714 non-null float64\n",
      "SibSp          891 non-null int64\n",
      "Parch          891 non-null int64\n",
      "Ticket         891 non-null object\n",
      "Fare           891 non-null float64\n",
      "Cabin          204 non-null object\n",
      "Embarked       889 non-null object\n",
      "dtypes: float64(2), int64(5), object(5)\n",
      "memory usage: 83.6+ KB\n"
     ]
    }
   ],
   "source": [
    "#Looking data format and types\n",
    "training_data.info()"
   ]
  },
  {
   "cell_type": "code",
   "execution_count": 5,
   "metadata": {},
   "outputs": [
    {
     "data": {
      "text/html": [
       "<div>\n",
       "<style scoped>\n",
       "    .dataframe tbody tr th:only-of-type {\n",
       "        vertical-align: middle;\n",
       "    }\n",
       "\n",
       "    .dataframe tbody tr th {\n",
       "        vertical-align: top;\n",
       "    }\n",
       "\n",
       "    .dataframe thead th {\n",
       "        text-align: right;\n",
       "    }\n",
       "</style>\n",
       "<table border=\"1\" class=\"dataframe\">\n",
       "  <thead>\n",
       "    <tr style=\"text-align: right;\">\n",
       "      <th></th>\n",
       "      <th>PassengerId</th>\n",
       "      <th>Survived</th>\n",
       "      <th>Pclass</th>\n",
       "      <th>Age</th>\n",
       "      <th>SibSp</th>\n",
       "      <th>Parch</th>\n",
       "      <th>Fare</th>\n",
       "    </tr>\n",
       "  </thead>\n",
       "  <tbody>\n",
       "    <tr>\n",
       "      <th>count</th>\n",
       "      <td>891.000000</td>\n",
       "      <td>891.000000</td>\n",
       "      <td>891.000000</td>\n",
       "      <td>714.000000</td>\n",
       "      <td>891.000000</td>\n",
       "      <td>891.000000</td>\n",
       "      <td>891.000000</td>\n",
       "    </tr>\n",
       "    <tr>\n",
       "      <th>mean</th>\n",
       "      <td>446.000000</td>\n",
       "      <td>0.383838</td>\n",
       "      <td>2.308642</td>\n",
       "      <td>29.699118</td>\n",
       "      <td>0.523008</td>\n",
       "      <td>0.381594</td>\n",
       "      <td>32.204208</td>\n",
       "    </tr>\n",
       "    <tr>\n",
       "      <th>std</th>\n",
       "      <td>257.353842</td>\n",
       "      <td>0.486592</td>\n",
       "      <td>0.836071</td>\n",
       "      <td>14.526497</td>\n",
       "      <td>1.102743</td>\n",
       "      <td>0.806057</td>\n",
       "      <td>49.693429</td>\n",
       "    </tr>\n",
       "    <tr>\n",
       "      <th>min</th>\n",
       "      <td>1.000000</td>\n",
       "      <td>0.000000</td>\n",
       "      <td>1.000000</td>\n",
       "      <td>0.420000</td>\n",
       "      <td>0.000000</td>\n",
       "      <td>0.000000</td>\n",
       "      <td>0.000000</td>\n",
       "    </tr>\n",
       "    <tr>\n",
       "      <th>25%</th>\n",
       "      <td>223.500000</td>\n",
       "      <td>0.000000</td>\n",
       "      <td>2.000000</td>\n",
       "      <td>20.125000</td>\n",
       "      <td>0.000000</td>\n",
       "      <td>0.000000</td>\n",
       "      <td>7.910400</td>\n",
       "    </tr>\n",
       "    <tr>\n",
       "      <th>50%</th>\n",
       "      <td>446.000000</td>\n",
       "      <td>0.000000</td>\n",
       "      <td>3.000000</td>\n",
       "      <td>28.000000</td>\n",
       "      <td>0.000000</td>\n",
       "      <td>0.000000</td>\n",
       "      <td>14.454200</td>\n",
       "    </tr>\n",
       "    <tr>\n",
       "      <th>75%</th>\n",
       "      <td>668.500000</td>\n",
       "      <td>1.000000</td>\n",
       "      <td>3.000000</td>\n",
       "      <td>38.000000</td>\n",
       "      <td>1.000000</td>\n",
       "      <td>0.000000</td>\n",
       "      <td>31.000000</td>\n",
       "    </tr>\n",
       "    <tr>\n",
       "      <th>max</th>\n",
       "      <td>891.000000</td>\n",
       "      <td>1.000000</td>\n",
       "      <td>3.000000</td>\n",
       "      <td>80.000000</td>\n",
       "      <td>8.000000</td>\n",
       "      <td>6.000000</td>\n",
       "      <td>512.329200</td>\n",
       "    </tr>\n",
       "  </tbody>\n",
       "</table>\n",
       "</div>"
      ],
      "text/plain": [
       "       PassengerId    Survived      Pclass         Age       SibSp  \\\n",
       "count   891.000000  891.000000  891.000000  714.000000  891.000000   \n",
       "mean    446.000000    0.383838    2.308642   29.699118    0.523008   \n",
       "std     257.353842    0.486592    0.836071   14.526497    1.102743   \n",
       "min       1.000000    0.000000    1.000000    0.420000    0.000000   \n",
       "25%     223.500000    0.000000    2.000000   20.125000    0.000000   \n",
       "50%     446.000000    0.000000    3.000000   28.000000    0.000000   \n",
       "75%     668.500000    1.000000    3.000000   38.000000    1.000000   \n",
       "max     891.000000    1.000000    3.000000   80.000000    8.000000   \n",
       "\n",
       "            Parch        Fare  \n",
       "count  891.000000  891.000000  \n",
       "mean     0.381594   32.204208  \n",
       "std      0.806057   49.693429  \n",
       "min      0.000000    0.000000  \n",
       "25%      0.000000    7.910400  \n",
       "50%      0.000000   14.454200  \n",
       "75%      0.000000   31.000000  \n",
       "max      6.000000  512.329200  "
      ]
     },
     "execution_count": 5,
     "metadata": {},
     "output_type": "execute_result"
    }
   ],
   "source": [
    "#Some Statistics\n",
    "training_data.describe()"
   ]
  },
  {
   "cell_type": "code",
   "execution_count": 6,
   "metadata": {},
   "outputs": [
    {
     "name": "stdout",
     "output_type": "stream",
     "text": [
      "PassengerId      0\n",
      "Survived         0\n",
      "Pclass           0\n",
      "Name             0\n",
      "Sex              0\n",
      "Age            177\n",
      "SibSp            0\n",
      "Parch            0\n",
      "Ticket           0\n",
      "Fare             0\n",
      "Cabin          687\n",
      "Embarked         2\n",
      "dtype: int64\n"
     ]
    },
    {
     "data": {
      "text/plain": [
       "PassengerId      0\n",
       "Pclass           0\n",
       "Name             0\n",
       "Sex              0\n",
       "Age             86\n",
       "SibSp            0\n",
       "Parch            0\n",
       "Ticket           0\n",
       "Fare             1\n",
       "Cabin          327\n",
       "Embarked         0\n",
       "dtype: int64"
      ]
     },
     "execution_count": 6,
     "metadata": {},
     "output_type": "execute_result"
    }
   ],
   "source": [
    "print(training_data.isnull().sum())\n",
    "testing_data.isnull().sum()"
   ]
  },
  {
   "cell_type": "code",
   "execution_count": 7,
   "metadata": {},
   "outputs": [
    {
     "data": {
      "text/plain": [
       "<matplotlib.axes._subplots.AxesSubplot at 0x221a55023c8>"
      ]
     },
     "execution_count": 7,
     "metadata": {},
     "output_type": "execute_result"
    },
    {
     "data": {
      "image/png": "[encoded data removed]",
      "text/plain": [
       "<matplotlib.figure.Figure at 0x221a537d668>"
      ]
     },
     "metadata": {},
     "output_type": "display_data"
    }
   ],
   "source": [
    "sns.distplot(training_data['Age'].dropna(), bins=30, kde=False)"
   ]
  },
  {
   "cell_type": "code",
   "execution_count": 8,
   "metadata": {},
   "outputs": [
    {
     "data": {
      "text/plain": [
       "<matplotlib.axes._subplots.AxesSubplot at 0x221a75e3b70>"
      ]
     },
     "execution_count": 8,
     "metadata": {},
     "output_type": "execute_result"
    },
    {
     "data": {
      "image/png": "[encoded data removed]",
      "text/plain": [
       "<matplotlib.figure.Figure at 0x2219bcb83c8>"
      ]
     },
     "metadata": {},
     "output_type": "display_data"
    }
   ],
   "source": [
    "sns.countplot(x='Sex',data=training_data,hue='Survived')"
   ]
  },
  {
   "cell_type": "code",
   "execution_count": 9,
   "metadata": {},
   "outputs": [
    {
     "data": {
      "text/plain": [
       "<matplotlib.axes._subplots.AxesSubplot at 0x221a75fbb38>"
      ]
     },
     "execution_count": 9,
     "metadata": {},
     "output_type": "execute_result"
    },
    {
     "data": {
      "image/png": "[encoded data removed]",
      "text/plain": [
       "<matplotlib.figure.Figure at 0x221a54ea748>"
      ]
     },
     "metadata": {},
     "output_type": "display_data"
    }
   ],
   "source": [
    "sns.countplot(x='Pclass',data=training_data,hue='Survived')"
   ]
  },
  {
   "cell_type": "code",
   "execution_count": 10,
   "metadata": {},
   "outputs": [
    {
     "data": {
      "text/plain": [
       "<matplotlib.axes._subplots.AxesSubplot at 0x221a76286d8>"
      ]
     },
     "execution_count": 10,
     "metadata": {},
     "output_type": "execute_result"
    },
    {
     "data": {
      "image/png": "[encoded data removed]",
      "text/plain": [
       "<matplotlib.figure.Figure at 0x221a75b9470>"
      ]
     },
     "metadata": {},
     "output_type": "display_data"
    }
   ],
   "source": [
    "sns.countplot(x='Embarked',data=training_data,hue='Survived')"
   ]
  },
  {
   "cell_type": "code",
   "execution_count": null,
   "metadata": {},
   "outputs": [],
   "source": []
  },
  {
   "cell_type": "code",
   "execution_count": null,
   "metadata": {
    "collapsed": true
   },
   "outputs": [],
   "source": []
  },
  {
   "cell_type": "code",
   "execution_count": null,
   "metadata": {
    "collapsed": true
   },
   "outputs": [],
   "source": []
  },
  {
   "cell_type": "code",
   "execution_count": null,
   "metadata": {
    "collapsed": true
   },
   "outputs": [],
   "source": []
  },
  {
   "cell_type": "markdown",
   "metadata": {},
   "source": [
    "## Feature Engineering"
   ]
  },
  {
   "cell_type": "markdown",
   "metadata": {},
   "source": [
    "First lets take care of null values and drop the ones we dont need\n",
    "- Cabin (numerical) has 687 null values out of 891 examples on the training, so we will just drop out\n",
    "- Fare and Age (numerical) has a bit more null values but we can take care of them, fill with the mean\n",
    "- Embarked (categorical), only 2 values we can fill with the most comon value\n",
    "- PassengerId (numerical) not relevant\n",
    "- Ticket (numerical) not relevant"
   ]
  },
  {
   "cell_type": "code",
   "execution_count": 11,
   "metadata": {
    "collapsed": true
   },
   "outputs": [],
   "source": [
    "def fill_na(df):\n",
    "    df['Age'].fillna(df[\"Age\"].mean(), inplace = True)\n",
    "    df['Embarked'].fillna(training_data['Embarked'].mode()[0], inplace=True)\n",
    "    df['Fare'].fillna(df[\"Fare\"].mean(), inplace = True)\n",
    "    \n",
    "    #Drop columns\n",
    "    delete_columns = [\"PassengerId\", \"Ticket\", \"Cabin\"]\n",
    "    df.drop(delete_columns, axis=1, inplace = True)\n",
    "    return df"
   ]
  },
  {
   "cell_type": "code",
   "execution_count": 12,
   "metadata": {
    "collapsed": true
   },
   "outputs": [],
   "source": [
    "training_data = fill_na(training_data)\n",
    "testing_data = fill_na(testing_data)"
   ]
  },
  {
   "cell_type": "markdown",
   "metadata": {},
   "source": [
    "The name is irrelevant but we can get some usefull information from it, as we can see it shows the title of the person.\n",
    "So we will process it and get only the most common ones.\n",
    "- Mr\n",
    "- Miss\n",
    "- Mrs\n",
    "- Master"
   ]
  },
  {
   "cell_type": "code",
   "execution_count": 13,
   "metadata": {},
   "outputs": [
    {
     "name": "stdout",
     "output_type": "stream",
     "text": [
      "['Mr' 'Mrs' 'Miss' 'Master' 'Don' 'Rev' 'Dr' 'Mme' 'Ms' 'Major' 'Lady'\n",
      " 'Sir' 'Mlle' 'Col' 'Capt' 'the Countess' 'Jonkheer']\n"
     ]
    }
   ],
   "source": [
    "print(training_data['Name'].map(lambda x: x.split(',')[1].split('.')[0].strip()).unique())\n",
    "training_data['Name']=training_data['Name'].map(lambda x: x.split(',')[1].split('.')[0].strip())\n",
    "testing_data['Name']=testing_data['Name'].map(lambda x: x.split(',')[1].split('.')[0].strip())"
   ]
  },
  {
   "cell_type": "code",
   "execution_count": 14,
   "metadata": {},
   "outputs": [
    {
     "name": "stdout",
     "output_type": "stream",
     "text": [
      "Name\n",
      "Mr        517\n",
      "Miss      182\n",
      "Mrs       125\n",
      "Master     40\n",
      "Dr          7\n",
      "dtype: int64\n"
     ]
    }
   ],
   "source": [
    "print(training_data.groupby('Name').size().nlargest(5))"
   ]
  },
  {
   "cell_type": "code",
   "execution_count": 15,
   "metadata": {
    "collapsed": true
   },
   "outputs": [],
   "source": [
    "# Remain the most common ones and all the \"rares\" to the category other\n",
    "def name(x):\n",
    "    titles = ['Mr', 'Miss', 'Mrs','Master']\n",
    "    if x not in titles:\n",
    "        return 'other'\n",
    "    else:\n",
    "        return x"
   ]
  },
  {
   "cell_type": "code",
   "execution_count": 16,
   "metadata": {
    "collapsed": true
   },
   "outputs": [],
   "source": [
    "training_data['Name'] = training_data['Name'].apply(name)\n",
    "testing_data['Name']= testing_data['Name'].apply(name)"
   ]
  },
  {
   "cell_type": "code",
   "execution_count": 17,
   "metadata": {},
   "outputs": [
    {
     "name": "stdout",
     "output_type": "stream",
     "text": [
      "Name\n",
      "Mr        517\n",
      "Miss      182\n",
      "Mrs       125\n",
      "Master     40\n",
      "other      27\n",
      "dtype: int64\n",
      "Name\n",
      "Mr        240\n",
      "Miss       78\n",
      "Mrs        72\n",
      "Master     21\n",
      "other       7\n",
      "dtype: int64\n"
     ]
    }
   ],
   "source": [
    "print(training_data.groupby('Name').size().nlargest(5))\n",
    "print(testing_data.groupby('Name').size().nlargest(5))"
   ]
  },
  {
   "cell_type": "code",
   "execution_count": 18,
   "metadata": {},
   "outputs": [
    {
     "data": {
      "text/plain": [
       "<matplotlib.axes._subplots.AxesSubplot at 0x221a5485c88>"
      ]
     },
     "execution_count": 18,
     "metadata": {},
     "output_type": "execute_result"
    },
    {
     "data": {
      "image/png": "[encoded data removed]",
      "text/plain": [
       "<matplotlib.figure.Figure at 0x221a76f03c8>"
      ]
     },
     "metadata": {},
     "output_type": "display_data"
    }
   ],
   "source": [
    "sns.countplot(x='Name',data=training_data,hue='Survived')"
   ]
  },
  {
   "cell_type": "markdown",
   "metadata": {},
   "source": [
    "### Create categorical variable\n",
    "Lets create some categorical from Age and Fare.\n",
    "\n",
    "This will be better if we choose our cuts\n",
    "\n"
   ]
  },
  {
   "cell_type": "code",
   "execution_count": 19,
   "metadata": {
    "collapsed": true
   },
   "outputs": [],
   "source": [
    "# Maybe we dont need this and should be better if we choose our cuts but for simplicity\n",
    "training_data['CategoricalAge'] = pd.cut(training_data['Age'], 5)\n",
    "training_data['CategoricalFare'] = pd.cut(training_data['Fare'], 4)\n",
    "testing_data['CategoricalAge'] = pd.cut(testing_data['Age'], 5)\n",
    "testing_data['CategoricalFare'] = pd.cut(testing_data['Fare'], 4)\n",
    "# And drop the old columns\n",
    "training_data.drop(\"Age\", axis=1, inplace=True)\n",
    "training_data.drop(\"Fare\", axis=1, inplace=True)\n",
    "testing_data.drop(\"Age\", axis=1, inplace=True)\n",
    "testing_data.drop(\"Fare\", axis=1, inplace=True)"
   ]
  },
  {
   "cell_type": "code",
   "execution_count": 20,
   "metadata": {},
   "outputs": [
    {
     "name": "stdout",
     "output_type": "stream",
     "text": [
      "CategoricalAge\n",
      "(0.34, 16.336]      100\n",
      "(16.336, 32.252]    523\n",
      "(32.252, 48.168]    188\n",
      "(48.168, 64.084]     69\n",
      "(64.084, 80.0]       11\n",
      "dtype: int64\n"
     ]
    }
   ],
   "source": [
    "print(training_data.groupby('CategoricalAge').size())"
   ]
  },
  {
   "cell_type": "code",
   "execution_count": null,
   "metadata": {
    "collapsed": true
   },
   "outputs": [],
   "source": []
  },
  {
   "cell_type": "code",
   "execution_count": 21,
   "metadata": {
    "collapsed": true
   },
   "outputs": [],
   "source": [
    "def family(df):\n",
    "    df['isAlone'] = df.apply(lambda x: 0 if x.SibSp + x.Parch >=1 else 1, axis=1)    \n",
    "    df['familySize'] = df.apply(lambda x: x.SibSp + x.Parch + 1, axis=1)\n",
    "    df.drop(['SibSp', 'Parch'], axis=1, inplace=True)\n",
    "    return df\n",
    "training_data = family(training_data)\n",
    "testing_data = family(testing_data)"
   ]
  },
  {
   "cell_type": "markdown",
   "metadata": {},
   "source": [
    "### Change our categorical variables to dummie\n",
    "First we need to change Pclass to categorical because right is numerical on our Dataframe"
   ]
  },
  {
   "cell_type": "code",
   "execution_count": 22,
   "metadata": {},
   "outputs": [
    {
     "name": "stdout",
     "output_type": "stream",
     "text": [
      "<class 'numpy.int64'>\n",
      "<class 'str'>\n"
     ]
    }
   ],
   "source": [
    "print(type(training_data['Pclass'][0]))\n",
    "training_data['Pclass'] = training_data['Pclass'].apply(str)\n",
    "testing_data['Pclass'] = testing_data['Pclass'].apply(str)\n",
    "print(type(training_data['Pclass'][0]))"
   ]
  },
  {
   "cell_type": "code",
   "execution_count": 23,
   "metadata": {},
   "outputs": [
    {
     "name": "stdout",
     "output_type": "stream",
     "text": [
      "(891, 9)\n",
      "(418, 8)\n",
      "(891, 19)\n",
      "(418, 18)\n"
     ]
    }
   ],
   "source": [
    "print(training_data.shape)\n",
    "print(testing_data.shape)\n",
    "training_data = pd.get_dummies(training_data,drop_first=True)\n",
    "testing_data = pd.get_dummies(testing_data,drop_first=True)\n",
    "print(training_data.shape)\n",
    "print(testing_data.shape)"
   ]
  },
  {
   "cell_type": "code",
   "execution_count": 24,
   "metadata": {},
   "outputs": [
    {
     "data": {
      "text/html": [
       "<div>\n",
       "<style scoped>\n",
       "    .dataframe tbody tr th:only-of-type {\n",
       "        vertical-align: middle;\n",
       "    }\n",
       "\n",
       "    .dataframe tbody tr th {\n",
       "        vertical-align: top;\n",
       "    }\n",
       "\n",
       "    .dataframe thead th {\n",
       "        text-align: right;\n",
       "    }\n",
       "</style>\n",
       "<table border=\"1\" class=\"dataframe\">\n",
       "  <thead>\n",
       "    <tr style=\"text-align: right;\">\n",
       "      <th></th>\n",
       "      <th>Survived</th>\n",
       "      <th>isAlone</th>\n",
       "      <th>familySize</th>\n",
       "      <th>Pclass_2</th>\n",
       "      <th>Pclass_3</th>\n",
       "      <th>Name_Miss</th>\n",
       "      <th>Name_Mr</th>\n",
       "      <th>Name_Mrs</th>\n",
       "      <th>Name_other</th>\n",
       "      <th>Sex_male</th>\n",
       "      <th>Embarked_Q</th>\n",
       "      <th>Embarked_S</th>\n",
       "      <th>CategoricalAge_(16.336, 32.252]</th>\n",
       "      <th>CategoricalAge_(32.252, 48.168]</th>\n",
       "      <th>CategoricalAge_(48.168, 64.084]</th>\n",
       "      <th>CategoricalAge_(64.084, 80.0]</th>\n",
       "      <th>CategoricalFare_(128.082, 256.165]</th>\n",
       "      <th>CategoricalFare_(256.165, 384.247]</th>\n",
       "      <th>CategoricalFare_(384.247, 512.329]</th>\n",
       "    </tr>\n",
       "  </thead>\n",
       "  <tbody>\n",
       "    <tr>\n",
       "      <th>642</th>\n",
       "      <td>0</td>\n",
       "      <td>0</td>\n",
       "      <td>6</td>\n",
       "      <td>0</td>\n",
       "      <td>1</td>\n",
       "      <td>1</td>\n",
       "      <td>0</td>\n",
       "      <td>0</td>\n",
       "      <td>0</td>\n",
       "      <td>0</td>\n",
       "      <td>0</td>\n",
       "      <td>1</td>\n",
       "      <td>0</td>\n",
       "      <td>0</td>\n",
       "      <td>0</td>\n",
       "      <td>0</td>\n",
       "      <td>0</td>\n",
       "      <td>0</td>\n",
       "      <td>0</td>\n",
       "    </tr>\n",
       "  </tbody>\n",
       "</table>\n",
       "</div>"
      ],
      "text/plain": [
       "     Survived  isAlone  familySize  Pclass_2  Pclass_3  Name_Miss  Name_Mr  \\\n",
       "642         0        0           6         0         1          1        0   \n",
       "\n",
       "     Name_Mrs  Name_other  Sex_male  Embarked_Q  Embarked_S  \\\n",
       "642         0           0         0           0           1   \n",
       "\n",
       "     CategoricalAge_(16.336, 32.252]  CategoricalAge_(32.252, 48.168]  \\\n",
       "642                                0                                0   \n",
       "\n",
       "     CategoricalAge_(48.168, 64.084]  CategoricalAge_(64.084, 80.0]  \\\n",
       "642                                0                              0   \n",
       "\n",
       "     CategoricalFare_(128.082, 256.165]  CategoricalFare_(256.165, 384.247]  \\\n",
       "642                                   0                                   0   \n",
       "\n",
       "     CategoricalFare_(384.247, 512.329]  \n",
       "642                                   0  "
      ]
     },
     "execution_count": 24,
     "metadata": {},
     "output_type": "execute_result"
    }
   ],
   "source": [
    "training_data.sample(1)"
   ]
  },
  {
   "cell_type": "code",
   "execution_count": 25,
   "metadata": {},
   "outputs": [
    {
     "data": {
      "text/html": [
       "<div>\n",
       "<style scoped>\n",
       "    .dataframe tbody tr th:only-of-type {\n",
       "        vertical-align: middle;\n",
       "    }\n",
       "\n",
       "    .dataframe tbody tr th {\n",
       "        vertical-align: top;\n",
       "    }\n",
       "\n",
       "    .dataframe thead th {\n",
       "        text-align: right;\n",
       "    }\n",
       "</style>\n",
       "<table border=\"1\" class=\"dataframe\">\n",
       "  <thead>\n",
       "    <tr style=\"text-align: right;\">\n",
       "      <th></th>\n",
       "      <th>isAlone</th>\n",
       "      <th>familySize</th>\n",
       "      <th>Pclass_2</th>\n",
       "      <th>Pclass_3</th>\n",
       "      <th>Name_Miss</th>\n",
       "      <th>Name_Mr</th>\n",
       "      <th>Name_Mrs</th>\n",
       "      <th>Name_other</th>\n",
       "      <th>Sex_male</th>\n",
       "      <th>Embarked_Q</th>\n",
       "      <th>Embarked_S</th>\n",
       "      <th>CategoricalAge_(15.336, 30.502]</th>\n",
       "      <th>CategoricalAge_(30.502, 45.668]</th>\n",
       "      <th>CategoricalAge_(45.668, 60.834]</th>\n",
       "      <th>CategoricalAge_(60.834, 76.0]</th>\n",
       "      <th>CategoricalFare_(128.082, 256.165]</th>\n",
       "      <th>CategoricalFare_(256.165, 384.247]</th>\n",
       "      <th>CategoricalFare_(384.247, 512.329]</th>\n",
       "    </tr>\n",
       "  </thead>\n",
       "  <tbody>\n",
       "    <tr>\n",
       "      <th>376</th>\n",
       "      <td>0</td>\n",
       "      <td>3</td>\n",
       "      <td>0</td>\n",
       "      <td>1</td>\n",
       "      <td>1</td>\n",
       "      <td>0</td>\n",
       "      <td>0</td>\n",
       "      <td>0</td>\n",
       "      <td>0</td>\n",
       "      <td>0</td>\n",
       "      <td>1</td>\n",
       "      <td>1</td>\n",
       "      <td>0</td>\n",
       "      <td>0</td>\n",
       "      <td>0</td>\n",
       "      <td>0</td>\n",
       "      <td>0</td>\n",
       "      <td>0</td>\n",
       "    </tr>\n",
       "  </tbody>\n",
       "</table>\n",
       "</div>"
      ],
      "text/plain": [
       "     isAlone  familySize  Pclass_2  Pclass_3  Name_Miss  Name_Mr  Name_Mrs  \\\n",
       "376        0           3         0         1          1        0         0   \n",
       "\n",
       "     Name_other  Sex_male  Embarked_Q  Embarked_S  \\\n",
       "376           0         0           0           1   \n",
       "\n",
       "     CategoricalAge_(15.336, 30.502]  CategoricalAge_(30.502, 45.668]  \\\n",
       "376                                1                                0   \n",
       "\n",
       "     CategoricalAge_(45.668, 60.834]  CategoricalAge_(60.834, 76.0]  \\\n",
       "376                                0                              0   \n",
       "\n",
       "     CategoricalFare_(128.082, 256.165]  CategoricalFare_(256.165, 384.247]  \\\n",
       "376                                   0                                   0   \n",
       "\n",
       "     CategoricalFare_(384.247, 512.329]  \n",
       "376                                   0  "
      ]
     },
     "execution_count": 25,
     "metadata": {},
     "output_type": "execute_result"
    }
   ],
   "source": [
    "testing_data.sample(1)"
   ]
  },
  {
   "cell_type": "code",
   "execution_count": 26,
   "metadata": {
    "collapsed": true
   },
   "outputs": [],
   "source": [
    "x_train = training_data.iloc[:, 1:].values\n",
    "y_train = training_data.iloc[:, :1].values"
   ]
  },
  {
   "cell_type": "code",
   "execution_count": 27,
   "metadata": {},
   "outputs": [
    {
     "name": "stdout",
     "output_type": "stream",
     "text": [
      "[0 2 0 1 0 1 0 0 1 0 1 1 0 0 0 0 0 0]\n",
      "[0]\n"
     ]
    }
   ],
   "source": [
    "print(x_train[0])\n",
    "print(y_train[0])"
   ]
  },
  {
   "cell_type": "markdown",
   "metadata": {},
   "source": [
    "## Lets build our Keras model"
   ]
  },
  {
   "cell_type": "code",
   "execution_count": 28,
   "metadata": {},
   "outputs": [
    {
     "name": "stderr",
     "output_type": "stream",
     "text": [
      "C:\\ProgramData\\Anaconda3\\lib\\site-packages\\h5py\\__init__.py:36: FutureWarning: Conversion of the second argument of issubdtype from `float` to `np.floating` is deprecated. In future, it will be treated as `np.float64 == np.dtype(float).type`.\n",
      "  from ._conv import register_converters as _register_converters\n",
      "Using TensorFlow backend.\n"
     ]
    }
   ],
   "source": [
    "# Importing the Keras libraries and packages\n",
    "import keras\n",
    "from keras.models import Sequential\n",
    "from keras.layers import Dense"
   ]
  },
  {
   "cell_type": "code",
   "execution_count": 29,
   "metadata": {
    "collapsed": true
   },
   "outputs": [],
   "source": [
    "def build_classifier():\n",
    "    # Initialising the ANN\n",
    "    classifier = Sequential()\n",
    "    # Adding the input layer and the first hidden layer\n",
    "    # Numer or nodes are art, but here we are taking,number of ind variables+ dependent variables --> 11+1 /2\n",
    "    classifier.add(Dense(units = 10, kernel_initializer = 'uniform', activation = 'relu', input_dim = x_train.shape[1]))\n",
    "    # Adding the second hidden layer\n",
    "    classifier.add(Dense(units = 10, kernel_initializer = 'uniform', activation = 'relu'))\n",
    "    # Adding the output layer\n",
    "    classifier.add(Dense(units = 1, kernel_initializer = 'uniform', activation = 'sigmoid'))\n",
    "    # Compiling the ANN\n",
    "    #adam = keras.optimizers.Adam(lr=0.001, beta_1=0.9, beta_2=0.999, epsilon=None, decay=0.0, amsgrad=False)\n",
    "    classifier.compile(optimizer = 'adam', loss = 'binary_crossentropy', metrics = ['accuracy'])  # if we have more than two categories, categorical_crossentropy\n",
    "    return classifier"
   ]
  },
  {
   "cell_type": "code",
   "execution_count": 30,
   "metadata": {},
   "outputs": [
    {
     "name": "stdout",
     "output_type": "stream",
     "text": [
      "Train on 712 samples, validate on 179 samples\n",
      "Epoch 1/100\n",
      "712/712 [==============================] - 6s 8ms/step - loss: 0.6920 - acc: 0.6096 - val_loss: 0.6894 - val_acc: 0.6425\n",
      "Epoch 2/100\n",
      "712/712 [==============================] - 0s 591us/step - loss: 0.6871 - acc: 0.6096 - val_loss: 0.6798 - val_acc: 0.6425\n",
      "Epoch 3/100\n",
      "712/712 [==============================] - 0s 428us/step - loss: 0.6748 - acc: 0.6096 - val_loss: 0.6568 - val_acc: 0.6425\n",
      "Epoch 4/100\n",
      "712/712 [==============================] - 0s 458us/step - loss: 0.6496 - acc: 0.6096 - val_loss: 0.6205 - val_acc: 0.6425\n",
      "Epoch 5/100\n",
      "712/712 [==============================] - 0s 378us/step - loss: 0.6156 - acc: 0.6096 - val_loss: 0.5763 - val_acc: 0.6425\n",
      "Epoch 6/100\n",
      "712/712 [==============================] - 0s 407us/step - loss: 0.5807 - acc: 0.6419 - val_loss: 0.5370 - val_acc: 0.7765\n",
      "Epoch 7/100\n",
      "712/712 [==============================] - 0s 380us/step - loss: 0.5541 - acc: 0.7612 - val_loss: 0.5136 - val_acc: 0.8045\n",
      "Epoch 8/100\n",
      "712/712 [==============================] - 0s 393us/step - loss: 0.5390 - acc: 0.7851 - val_loss: 0.5018 - val_acc: 0.8101\n",
      "Epoch 9/100\n",
      "712/712 [==============================] - 0s 418us/step - loss: 0.5303 - acc: 0.7949 - val_loss: 0.4933 - val_acc: 0.8212\n",
      "Epoch 10/100\n",
      "712/712 [==============================] - 0s 380us/step - loss: 0.5217 - acc: 0.8034 - val_loss: 0.4859 - val_acc: 0.8212\n",
      "Epoch 11/100\n",
      "712/712 [==============================] - 0s 389us/step - loss: 0.5139 - acc: 0.8062 - val_loss: 0.4782 - val_acc: 0.8212\n",
      "Epoch 12/100\n",
      "712/712 [==============================] - 0s 371us/step - loss: 0.5064 - acc: 0.8034 - val_loss: 0.4729 - val_acc: 0.8156\n",
      "Epoch 13/100\n",
      "712/712 [==============================] - 0s 494us/step - loss: 0.5007 - acc: 0.7978 - val_loss: 0.4681 - val_acc: 0.8156\n",
      "Epoch 14/100\n",
      "712/712 [==============================] - 0s 401us/step - loss: 0.4943 - acc: 0.7963 - val_loss: 0.4612 - val_acc: 0.8156\n",
      "Epoch 15/100\n",
      "712/712 [==============================] - 0s 549us/step - loss: 0.4898 - acc: 0.7823 - val_loss: 0.4579 - val_acc: 0.8156\n",
      "Epoch 16/100\n",
      "712/712 [==============================] - 0s 456us/step - loss: 0.4869 - acc: 0.8006 - val_loss: 0.4523 - val_acc: 0.8156\n",
      "Epoch 17/100\n",
      "712/712 [==============================] - 0s 453us/step - loss: 0.4808 - acc: 0.7893 - val_loss: 0.4497 - val_acc: 0.8101\n",
      "Epoch 18/100\n",
      "712/712 [==============================] - 0s 561us/step - loss: 0.4790 - acc: 0.7893 - val_loss: 0.4458 - val_acc: 0.8156\n",
      "Epoch 19/100\n",
      "712/712 [==============================] - 0s 386us/step - loss: 0.4762 - acc: 0.7893 - val_loss: 0.4440 - val_acc: 0.8045\n",
      "Epoch 20/100\n",
      "712/712 [==============================] - 0s 328us/step - loss: 0.4727 - acc: 0.7879 - val_loss: 0.4413 - val_acc: 0.7989\n",
      "Epoch 21/100\n",
      "712/712 [==============================] - 0s 328us/step - loss: 0.4773 - acc: 0.7935 - val_loss: 0.4420 - val_acc: 0.7933\n",
      "Epoch 22/100\n",
      "712/712 [==============================] - 0s 371us/step - loss: 0.4702 - acc: 0.7823 - val_loss: 0.4377 - val_acc: 0.7933\n",
      "Epoch 23/100\n",
      "712/712 [==============================] - 0s 324us/step - loss: 0.4670 - acc: 0.7949 - val_loss: 0.4364 - val_acc: 0.7933\n",
      "Epoch 24/100\n",
      "712/712 [==============================] - 0s 278us/step - loss: 0.4650 - acc: 0.7907 - val_loss: 0.4335 - val_acc: 0.7933\n",
      "Epoch 25/100\n",
      "712/712 [==============================] - 0s 345us/step - loss: 0.4636 - acc: 0.7893 - val_loss: 0.4315 - val_acc: 0.7933\n",
      "Epoch 26/100\n",
      "712/712 [==============================] - 0s 254us/step - loss: 0.4625 - acc: 0.8020 - val_loss: 0.4299 - val_acc: 0.7933\n",
      "Epoch 27/100\n",
      "712/712 [==============================] - 0s 278us/step - loss: 0.4610 - acc: 0.7865 - val_loss: 0.4291 - val_acc: 0.7933\n",
      "Epoch 28/100\n",
      "712/712 [==============================] - 0s 260us/step - loss: 0.4594 - acc: 0.7978 - val_loss: 0.4272 - val_acc: 0.7933\n",
      "Epoch 29/100\n",
      "712/712 [==============================] - 0s 240us/step - loss: 0.4580 - acc: 0.7949 - val_loss: 0.4246 - val_acc: 0.7933\n",
      "Epoch 30/100\n",
      "712/712 [==============================] - 0s 243us/step - loss: 0.4576 - acc: 0.7963 - val_loss: 0.4223 - val_acc: 0.7933\n",
      "Epoch 31/100\n",
      "712/712 [==============================] - 0s 246us/step - loss: 0.4555 - acc: 0.8006 - val_loss: 0.4216 - val_acc: 0.7989\n",
      "Epoch 32/100\n",
      "712/712 [==============================] - 0s 243us/step - loss: 0.4536 - acc: 0.7935 - val_loss: 0.4226 - val_acc: 0.8045\n",
      "Epoch 33/100\n",
      "712/712 [==============================] - 0s 246us/step - loss: 0.4540 - acc: 0.7992 - val_loss: 0.4187 - val_acc: 0.8101\n",
      "Epoch 34/100\n",
      "712/712 [==============================] - 0s 251us/step - loss: 0.4522 - acc: 0.8034 - val_loss: 0.4166 - val_acc: 0.8101\n",
      "Epoch 35/100\n",
      "712/712 [==============================] - 0s 244us/step - loss: 0.4538 - acc: 0.7907 - val_loss: 0.4154 - val_acc: 0.8101\n",
      "Epoch 36/100\n",
      "712/712 [==============================] - 0s 247us/step - loss: 0.4489 - acc: 0.8034 - val_loss: 0.4124 - val_acc: 0.8156\n",
      "Epoch 37/100\n",
      "712/712 [==============================] - 0s 250us/step - loss: 0.4485 - acc: 0.8034 - val_loss: 0.4108 - val_acc: 0.8045\n",
      "Epoch 38/100\n",
      "712/712 [==============================] - 0s 247us/step - loss: 0.4470 - acc: 0.8034 - val_loss: 0.4105 - val_acc: 0.8101\n",
      "Epoch 39/100\n",
      "712/712 [==============================] - 0s 246us/step - loss: 0.4464 - acc: 0.8034 - val_loss: 0.4094 - val_acc: 0.8156\n",
      "Epoch 40/100\n",
      "712/712 [==============================] - 0s 246us/step - loss: 0.4463 - acc: 0.8034 - val_loss: 0.4084 - val_acc: 0.8268\n",
      "Epoch 41/100\n",
      "712/712 [==============================] - 0s 241us/step - loss: 0.4447 - acc: 0.8048 - val_loss: 0.4052 - val_acc: 0.8156\n",
      "Epoch 42/100\n",
      "712/712 [==============================] - 0s 244us/step - loss: 0.4437 - acc: 0.8020 - val_loss: 0.4029 - val_acc: 0.8156\n",
      "Epoch 43/100\n",
      "712/712 [==============================] - 0s 241us/step - loss: 0.4418 - acc: 0.8076 - val_loss: 0.4067 - val_acc: 0.8212\n",
      "Epoch 44/100\n",
      "712/712 [==============================] - 0s 275us/step - loss: 0.4409 - acc: 0.8104 - val_loss: 0.4011 - val_acc: 0.8268\n",
      "Epoch 45/100\n",
      "712/712 [==============================] - 0s 248us/step - loss: 0.4409 - acc: 0.8062 - val_loss: 0.3996 - val_acc: 0.8268\n",
      "Epoch 46/100\n",
      "712/712 [==============================] - 0s 248us/step - loss: 0.4391 - acc: 0.8118 - val_loss: 0.3988 - val_acc: 0.8268\n",
      "Epoch 47/100\n",
      "712/712 [==============================] - 0s 244us/step - loss: 0.4395 - acc: 0.8020 - val_loss: 0.3987 - val_acc: 0.8268\n",
      "Epoch 48/100\n",
      "712/712 [==============================] - 0s 248us/step - loss: 0.4397 - acc: 0.8090 - val_loss: 0.3959 - val_acc: 0.8268\n",
      "Epoch 49/100\n",
      "712/712 [==============================] - 0s 248us/step - loss: 0.4367 - acc: 0.8090 - val_loss: 0.3926 - val_acc: 0.8380\n",
      "Epoch 50/100\n",
      "712/712 [==============================] - 0s 250us/step - loss: 0.4354 - acc: 0.8146 - val_loss: 0.3924 - val_acc: 0.8380\n",
      "Epoch 51/100\n",
      "712/712 [==============================] - 0s 246us/step - loss: 0.4366 - acc: 0.8104 - val_loss: 0.3953 - val_acc: 0.8324\n",
      "Epoch 52/100\n",
      "712/712 [==============================] - 0s 246us/step - loss: 0.4360 - acc: 0.8090 - val_loss: 0.3908 - val_acc: 0.8380\n",
      "Epoch 53/100\n",
      "712/712 [==============================] - 0s 246us/step - loss: 0.4329 - acc: 0.8146 - val_loss: 0.3905 - val_acc: 0.8324\n",
      "Epoch 54/100\n",
      "712/712 [==============================] - 0s 250us/step - loss: 0.4322 - acc: 0.8160 - val_loss: 0.3888 - val_acc: 0.8380\n",
      "Epoch 55/100\n",
      "712/712 [==============================] - 0s 250us/step - loss: 0.4319 - acc: 0.8146 - val_loss: 0.3851 - val_acc: 0.8492\n",
      "Epoch 56/100\n",
      "712/712 [==============================] - 0s 247us/step - loss: 0.4304 - acc: 0.8160 - val_loss: 0.3850 - val_acc: 0.8436\n",
      "Epoch 57/100\n",
      "712/712 [==============================] - 0s 246us/step - loss: 0.4298 - acc: 0.8174 - val_loss: 0.3842 - val_acc: 0.8436\n",
      "Epoch 58/100\n",
      "712/712 [==============================] - 0s 246us/step - loss: 0.4296 - acc: 0.8174 - val_loss: 0.3832 - val_acc: 0.8492\n",
      "Epoch 59/100\n",
      "712/712 [==============================] - 0s 243us/step - loss: 0.4290 - acc: 0.8118 - val_loss: 0.3812 - val_acc: 0.8492\n",
      "Epoch 60/100\n",
      "712/712 [==============================] - 0s 243us/step - loss: 0.4272 - acc: 0.8132 - val_loss: 0.3821 - val_acc: 0.8492\n"
     ]
    },
    {
     "name": "stdout",
     "output_type": "stream",
     "text": [
      "Epoch 61/100\n",
      "712/712 [==============================] - 0s 258us/step - loss: 0.4287 - acc: 0.8146 - val_loss: 0.3795 - val_acc: 0.8492\n",
      "Epoch 62/100\n",
      "712/712 [==============================] - 0s 237us/step - loss: 0.4263 - acc: 0.8160 - val_loss: 0.3805 - val_acc: 0.8436\n",
      "Epoch 63/100\n",
      "712/712 [==============================] - 0s 234us/step - loss: 0.4273 - acc: 0.8160 - val_loss: 0.3771 - val_acc: 0.8492\n",
      "Epoch 64/100\n",
      "712/712 [==============================] - 0s 239us/step - loss: 0.4251 - acc: 0.8146 - val_loss: 0.3770 - val_acc: 0.8492\n",
      "Epoch 65/100\n",
      "712/712 [==============================] - 0s 247us/step - loss: 0.4248 - acc: 0.8174 - val_loss: 0.3761 - val_acc: 0.8492\n",
      "Epoch 66/100\n",
      "712/712 [==============================] - 0s 243us/step - loss: 0.4236 - acc: 0.8174 - val_loss: 0.3757 - val_acc: 0.8492\n",
      "Epoch 67/100\n",
      "712/712 [==============================] - 0s 240us/step - loss: 0.4249 - acc: 0.8118 - val_loss: 0.3730 - val_acc: 0.8492\n",
      "Epoch 68/100\n",
      "712/712 [==============================] - 0s 241us/step - loss: 0.4234 - acc: 0.8174 - val_loss: 0.3746 - val_acc: 0.8492\n",
      "Epoch 69/100\n",
      "712/712 [==============================] - 0s 241us/step - loss: 0.4218 - acc: 0.8188 - val_loss: 0.3728 - val_acc: 0.8492\n",
      "Epoch 70/100\n",
      "712/712 [==============================] - 0s 236us/step - loss: 0.4225 - acc: 0.8146 - val_loss: 0.3739 - val_acc: 0.8492\n",
      "Epoch 71/100\n",
      "712/712 [==============================] - 0s 239us/step - loss: 0.4237 - acc: 0.8146 - val_loss: 0.3704 - val_acc: 0.8492\n",
      "Epoch 72/100\n",
      "712/712 [==============================] - 0s 234us/step - loss: 0.4207 - acc: 0.8146 - val_loss: 0.3706 - val_acc: 0.8492\n",
      "Epoch 73/100\n",
      "712/712 [==============================] - 0s 260us/step - loss: 0.4204 - acc: 0.8174 - val_loss: 0.3664 - val_acc: 0.8547\n",
      "Epoch 74/100\n",
      "712/712 [==============================] - 0s 244us/step - loss: 0.4191 - acc: 0.8174 - val_loss: 0.3708 - val_acc: 0.8492\n",
      "Epoch 75/100\n",
      "712/712 [==============================] - 0s 250us/step - loss: 0.4188 - acc: 0.8160 - val_loss: 0.3661 - val_acc: 0.8492\n",
      "Epoch 76/100\n",
      "712/712 [==============================] - 0s 234us/step - loss: 0.4188 - acc: 0.8160 - val_loss: 0.3667 - val_acc: 0.8492\n",
      "Epoch 77/100\n",
      "712/712 [==============================] - 0s 250us/step - loss: 0.4182 - acc: 0.8188 - val_loss: 0.3674 - val_acc: 0.8492\n",
      "Epoch 78/100\n",
      "712/712 [==============================] - 0s 241us/step - loss: 0.4182 - acc: 0.8174 - val_loss: 0.3641 - val_acc: 0.8492\n",
      "Epoch 79/100\n",
      "712/712 [==============================] - 0s 237us/step - loss: 0.4173 - acc: 0.8174 - val_loss: 0.3657 - val_acc: 0.8492\n",
      "Epoch 80/100\n",
      "712/712 [==============================] - 0s 236us/step - loss: 0.4178 - acc: 0.8090 - val_loss: 0.3618 - val_acc: 0.8659\n",
      "Epoch 81/100\n",
      "712/712 [==============================] - 0s 232us/step - loss: 0.4161 - acc: 0.8174 - val_loss: 0.3657 - val_acc: 0.8492\n",
      "Epoch 82/100\n",
      "712/712 [==============================] - 0s 253us/step - loss: 0.4154 - acc: 0.8160 - val_loss: 0.3628 - val_acc: 0.8547\n",
      "Epoch 83/100\n",
      "712/712 [==============================] - 0s 234us/step - loss: 0.4152 - acc: 0.8174 - val_loss: 0.3617 - val_acc: 0.8492\n",
      "Epoch 84/100\n",
      "712/712 [==============================] - 0s 244us/step - loss: 0.4146 - acc: 0.8160 - val_loss: 0.3633 - val_acc: 0.8492\n",
      "Epoch 85/100\n",
      "712/712 [==============================] - 0s 251us/step - loss: 0.4147 - acc: 0.8160 - val_loss: 0.3600 - val_acc: 0.8492\n",
      "Epoch 86/100\n",
      "712/712 [==============================] - 0s 244us/step - loss: 0.4146 - acc: 0.8146 - val_loss: 0.3608 - val_acc: 0.8492\n",
      "Epoch 87/100\n",
      "712/712 [==============================] - 0s 240us/step - loss: 0.4146 - acc: 0.8216 - val_loss: 0.3584 - val_acc: 0.8547\n",
      "Epoch 88/100\n",
      "712/712 [==============================] - 0s 243us/step - loss: 0.4143 - acc: 0.8146 - val_loss: 0.3623 - val_acc: 0.8603\n",
      "Epoch 89/100\n",
      "712/712 [==============================] - 0s 243us/step - loss: 0.4138 - acc: 0.8188 - val_loss: 0.3588 - val_acc: 0.8603\n",
      "Epoch 90/100\n",
      "712/712 [==============================] - 0s 244us/step - loss: 0.4141 - acc: 0.8188 - val_loss: 0.3569 - val_acc: 0.8603\n",
      "Epoch 91/100\n",
      "712/712 [==============================] - 0s 241us/step - loss: 0.4137 - acc: 0.8146 - val_loss: 0.3635 - val_acc: 0.8547\n",
      "Epoch 92/100\n",
      "712/712 [==============================] - 0s 237us/step - loss: 0.4138 - acc: 0.8188 - val_loss: 0.3555 - val_acc: 0.8659\n",
      "Epoch 93/100\n",
      "712/712 [==============================] - 0s 240us/step - loss: 0.4112 - acc: 0.8160 - val_loss: 0.3605 - val_acc: 0.8659\n",
      "Epoch 94/100\n",
      "712/712 [==============================] - 0s 240us/step - loss: 0.4128 - acc: 0.8104 - val_loss: 0.3594 - val_acc: 0.8603\n",
      "Epoch 95/100\n",
      "712/712 [==============================] - 0s 243us/step - loss: 0.4117 - acc: 0.8146 - val_loss: 0.3582 - val_acc: 0.8659\n",
      "Epoch 96/100\n",
      "712/712 [==============================] - 0s 246us/step - loss: 0.4107 - acc: 0.8160 - val_loss: 0.3557 - val_acc: 0.8659\n",
      "Epoch 97/100\n",
      "712/712 [==============================] - 0s 239us/step - loss: 0.4123 - acc: 0.8174 - val_loss: 0.3553 - val_acc: 0.8659\n",
      "Epoch 98/100\n",
      "712/712 [==============================] - 0s 240us/step - loss: 0.4116 - acc: 0.8146 - val_loss: 0.3539 - val_acc: 0.8771\n",
      "Epoch 99/100\n",
      "712/712 [==============================] - 0s 239us/step - loss: 0.4110 - acc: 0.8132 - val_loss: 0.3549 - val_acc: 0.8715\n",
      "Epoch 100/100\n",
      "712/712 [==============================] - 0s 234us/step - loss: 0.4114 - acc: 0.8062 - val_loss: 0.3540 - val_acc: 0.8715\n"
     ]
    },
    {
     "data": {
      "text/plain": [
       "<keras.callbacks.History at 0x221ac0b4e10>"
      ]
     },
     "execution_count": 30,
     "metadata": {},
     "output_type": "execute_result"
    }
   ],
   "source": [
    "classifier = build_classifier()\n",
    "classifier.fit(x_train, y_train, batch_size = 32, epochs =100, verbose=1, validation_split=0.2) # 0.8058"
   ]
  },
  {
   "cell_type": "code",
   "execution_count": 31,
   "metadata": {
    "collapsed": true
   },
   "outputs": [],
   "source": [
    "y_pred = classifier.predict(testing_data)"
   ]
  },
  {
   "cell_type": "code",
   "execution_count": 32,
   "metadata": {
    "collapsed": true
   },
   "outputs": [],
   "source": [
    "y_pred = np.where(y_pred > 0.5, 1, 0)"
   ]
  },
  {
   "cell_type": "code",
   "execution_count": 33,
   "metadata": {},
   "outputs": [
    {
     "data": {
      "text/plain": [
       "array([[0],\n",
       "       [1],\n",
       "       [0],\n",
       "       [0],\n",
       "       [0],\n",
       "       [0],\n",
       "       [1],\n",
       "       [0],\n",
       "       [1],\n",
       "       [0],\n",
       "       [0],\n",
       "       [0],\n",
       "       [1],\n",
       "       [0],\n",
       "       [1],\n",
       "       [1],\n",
       "       [0],\n",
       "       [0],\n",
       "       [0],\n",
       "       [1],\n",
       "       [0],\n",
       "       [0],\n",
       "       [1],\n",
       "       [1],\n",
       "       [1],\n",
       "       [0],\n",
       "       [1],\n",
       "       [0],\n",
       "       [0],\n",
       "       [0],\n",
       "       [0],\n",
       "       [0],\n",
       "       [0],\n",
       "       [0],\n",
       "       [1],\n",
       "       [0],\n",
       "       [1],\n",
       "       [1],\n",
       "       [0],\n",
       "       [0],\n",
       "       [0],\n",
       "       [0],\n",
       "       [0],\n",
       "       [1],\n",
       "       [1],\n",
       "       [0],\n",
       "       [0],\n",
       "       [0],\n",
       "       [1],\n",
       "       [0],\n",
       "       [0],\n",
       "       [0],\n",
       "       [1],\n",
       "       [1],\n",
       "       [0],\n",
       "       [0],\n",
       "       [0],\n",
       "       [0],\n",
       "       [0],\n",
       "       [1],\n",
       "       [0],\n",
       "       [0],\n",
       "       [0],\n",
       "       [1],\n",
       "       [1],\n",
       "       [1],\n",
       "       [1],\n",
       "       [0],\n",
       "       [0],\n",
       "       [1],\n",
       "       [1],\n",
       "       [0],\n",
       "       [1],\n",
       "       [1],\n",
       "       [1],\n",
       "       [0],\n",
       "       [0],\n",
       "       [1],\n",
       "       [0],\n",
       "       [1],\n",
       "       [0],\n",
       "       [0],\n",
       "       [0],\n",
       "       [0],\n",
       "       [0],\n",
       "       [0],\n",
       "       [1],\n",
       "       [1],\n",
       "       [0],\n",
       "       [1],\n",
       "       [1],\n",
       "       [0],\n",
       "       [1],\n",
       "       [0],\n",
       "       [1],\n",
       "       [0],\n",
       "       [1],\n",
       "       [0],\n",
       "       [1],\n",
       "       [0],\n",
       "       [1],\n",
       "       [0],\n",
       "       [0],\n",
       "       [0],\n",
       "       [1],\n",
       "       [0],\n",
       "       [0],\n",
       "       [0],\n",
       "       [0],\n",
       "       [0],\n",
       "       [0],\n",
       "       [1],\n",
       "       [1],\n",
       "       [1],\n",
       "       [1],\n",
       "       [0],\n",
       "       [0],\n",
       "       [1],\n",
       "       [0],\n",
       "       [1],\n",
       "       [1],\n",
       "       [0],\n",
       "       [1],\n",
       "       [0],\n",
       "       [0],\n",
       "       [0],\n",
       "       [0],\n",
       "       [1],\n",
       "       [0],\n",
       "       [0],\n",
       "       [0],\n",
       "       [1],\n",
       "       [0],\n",
       "       [0],\n",
       "       [0],\n",
       "       [0],\n",
       "       [0],\n",
       "       [0],\n",
       "       [1],\n",
       "       [0],\n",
       "       [0],\n",
       "       [1],\n",
       "       [0],\n",
       "       [0],\n",
       "       [0],\n",
       "       [0],\n",
       "       [0],\n",
       "       [0],\n",
       "       [0],\n",
       "       [0],\n",
       "       [1],\n",
       "       [0],\n",
       "       [0],\n",
       "       [0],\n",
       "       [0],\n",
       "       [0],\n",
       "       [1],\n",
       "       [1],\n",
       "       [0],\n",
       "       [0],\n",
       "       [1],\n",
       "       [0],\n",
       "       [1],\n",
       "       [0],\n",
       "       [0],\n",
       "       [0],\n",
       "       [0],\n",
       "       [0],\n",
       "       [1],\n",
       "       [1],\n",
       "       [0],\n",
       "       [0],\n",
       "       [0],\n",
       "       [0],\n",
       "       [0],\n",
       "       [1],\n",
       "       [1],\n",
       "       [0],\n",
       "       [1],\n",
       "       [1],\n",
       "       [0],\n",
       "       [0],\n",
       "       [1],\n",
       "       [0],\n",
       "       [1],\n",
       "       [0],\n",
       "       [1],\n",
       "       [0],\n",
       "       [0],\n",
       "       [0],\n",
       "       [0],\n",
       "       [0],\n",
       "       [0],\n",
       "       [0],\n",
       "       [1],\n",
       "       [0],\n",
       "       [1],\n",
       "       [1],\n",
       "       [0],\n",
       "       [1],\n",
       "       [1],\n",
       "       [0],\n",
       "       [0],\n",
       "       [1],\n",
       "       [0],\n",
       "       [1],\n",
       "       [1],\n",
       "       [0],\n",
       "       [1],\n",
       "       [0],\n",
       "       [0],\n",
       "       [0],\n",
       "       [0],\n",
       "       [1],\n",
       "       [0],\n",
       "       [0],\n",
       "       [1],\n",
       "       [0],\n",
       "       [1],\n",
       "       [0],\n",
       "       [1],\n",
       "       [0],\n",
       "       [1],\n",
       "       [0],\n",
       "       [1],\n",
       "       [1],\n",
       "       [0],\n",
       "       [1],\n",
       "       [0],\n",
       "       [0],\n",
       "       [0],\n",
       "       [1],\n",
       "       [0],\n",
       "       [0],\n",
       "       [0],\n",
       "       [0],\n",
       "       [0],\n",
       "       [0],\n",
       "       [1],\n",
       "       [1],\n",
       "       [1],\n",
       "       [1],\n",
       "       [0],\n",
       "       [0],\n",
       "       [0],\n",
       "       [0],\n",
       "       [1],\n",
       "       [0],\n",
       "       [1],\n",
       "       [1],\n",
       "       [1],\n",
       "       [0],\n",
       "       [0],\n",
       "       [0],\n",
       "       [0],\n",
       "       [0],\n",
       "       [0],\n",
       "       [0],\n",
       "       [1],\n",
       "       [0],\n",
       "       [0],\n",
       "       [0],\n",
       "       [1],\n",
       "       [1],\n",
       "       [0],\n",
       "       [0],\n",
       "       [0],\n",
       "       [0],\n",
       "       [1],\n",
       "       [0],\n",
       "       [0],\n",
       "       [0],\n",
       "       [1],\n",
       "       [1],\n",
       "       [0],\n",
       "       [1],\n",
       "       [0],\n",
       "       [0],\n",
       "       [0],\n",
       "       [0],\n",
       "       [1],\n",
       "       [0],\n",
       "       [1],\n",
       "       [1],\n",
       "       [1],\n",
       "       [0],\n",
       "       [0],\n",
       "       [0],\n",
       "       [0],\n",
       "       [0],\n",
       "       [0],\n",
       "       [1],\n",
       "       [0],\n",
       "       [0],\n",
       "       [0],\n",
       "       [0],\n",
       "       [1],\n",
       "       [0],\n",
       "       [0],\n",
       "       [0],\n",
       "       [0],\n",
       "       [0],\n",
       "       [0],\n",
       "       [0],\n",
       "       [1],\n",
       "       [1],\n",
       "       [0],\n",
       "       [0],\n",
       "       [0],\n",
       "       [1],\n",
       "       [0],\n",
       "       [0],\n",
       "       [0],\n",
       "       [1],\n",
       "       [1],\n",
       "       [1],\n",
       "       [0],\n",
       "       [0],\n",
       "       [0],\n",
       "       [0],\n",
       "       [0],\n",
       "       [0],\n",
       "       [0],\n",
       "       [0],\n",
       "       [1],\n",
       "       [0],\n",
       "       [1],\n",
       "       [0],\n",
       "       [0],\n",
       "       [0],\n",
       "       [1],\n",
       "       [0],\n",
       "       [0],\n",
       "       [1],\n",
       "       [0],\n",
       "       [0],\n",
       "       [0],\n",
       "       [0],\n",
       "       [0],\n",
       "       [0],\n",
       "       [0],\n",
       "       [0],\n",
       "       [0],\n",
       "       [1],\n",
       "       [0],\n",
       "       [1],\n",
       "       [0],\n",
       "       [1],\n",
       "       [0],\n",
       "       [1],\n",
       "       [1],\n",
       "       [0],\n",
       "       [0],\n",
       "       [0],\n",
       "       [0],\n",
       "       [0],\n",
       "       [1],\n",
       "       [0],\n",
       "       [0],\n",
       "       [1],\n",
       "       [0],\n",
       "       [1],\n",
       "       [1],\n",
       "       [0],\n",
       "       [1],\n",
       "       [0],\n",
       "       [0],\n",
       "       [1],\n",
       "       [1],\n",
       "       [0],\n",
       "       [0],\n",
       "       [1],\n",
       "       [0],\n",
       "       [0],\n",
       "       [1],\n",
       "       [1],\n",
       "       [0],\n",
       "       [0],\n",
       "       [0],\n",
       "       [0],\n",
       "       [0],\n",
       "       [0],\n",
       "       [1],\n",
       "       [1],\n",
       "       [0],\n",
       "       [1],\n",
       "       [0],\n",
       "       [0],\n",
       "       [0],\n",
       "       [0],\n",
       "       [0],\n",
       "       [1],\n",
       "       [0],\n",
       "       [0],\n",
       "       [0],\n",
       "       [1],\n",
       "       [0],\n",
       "       [1],\n",
       "       [0],\n",
       "       [0],\n",
       "       [1],\n",
       "       [0],\n",
       "       [1],\n",
       "       [0],\n",
       "       [0],\n",
       "       [0],\n",
       "       [0],\n",
       "       [0],\n",
       "       [1],\n",
       "       [1],\n",
       "       [1],\n",
       "       [1],\n",
       "       [1],\n",
       "       [0],\n",
       "       [1],\n",
       "       [0],\n",
       "       [0],\n",
       "       [0]])"
      ]
     },
     "execution_count": 33,
     "metadata": {},
     "output_type": "execute_result"
    }
   ],
   "source": [
    "y_pred"
   ]
  },
  {
   "cell_type": "code",
   "execution_count": null,
   "metadata": {
    "collapsed": true
   },
   "outputs": [],
   "source": []
  },
  {
   "cell_type": "code",
   "execution_count": null,
   "metadata": {
    "collapsed": true
   },
   "outputs": [],
   "source": []
  },
  {
   "cell_type": "code",
   "execution_count": null,
   "metadata": {
    "collapsed": true
   },
   "outputs": [],
   "source": []
  },
  {
   "cell_type": "code",
   "execution_count": null,
   "metadata": {
    "collapsed": true
   },
   "outputs": [],
   "source": []
  },
  {
   "cell_type": "code",
   "execution_count": null,
   "metadata": {
    "collapsed": true
   },
   "outputs": [],
   "source": []
  },
  {
   "cell_type": "code",
   "execution_count": null,
   "metadata": {
    "collapsed": true
   },
   "outputs": [],
   "source": []
  },
  {
   "cell_type": "code",
   "execution_count": null,
   "metadata": {
    "collapsed": true
   },
   "outputs": [],
   "source": []
  }
 ],
 "metadata": {
  "kernelspec": {
   "display_name": "Python 3",
   "language": "python",
   "name": "python3"
  },
  "language_info": {
   "codemirror_mode": {
    "name": "ipython",
    "version": 3
   },
   "file_extension": ".py",
   "mimetype": "text/x-python",
   "name": "python",
   "nbconvert_exporter": "python",
   "pygments_lexer": "ipython3",
   "version": "3.6.3"
  }
 },
 "nbformat": 4,
 "nbformat_minor": 2
}
